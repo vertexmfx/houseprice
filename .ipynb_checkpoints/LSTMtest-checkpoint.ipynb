{
 "cells": [
  {
   "cell_type": "code",
   "execution_count": 1,
   "metadata": {},
   "outputs": [
    {
     "name": "stderr",
     "output_type": "stream",
     "text": [
      "Using TensorFlow backend.\n"
     ]
    }
   ],
   "source": [
    "import time\n",
    "import math\n",
    "import numpy as np\n",
    "import pandas as pd\n",
    "import matplotlib.pyplot as plt\n",
    "import matplotlib.dates as mdates\n",
    "from datetime import datetime\n",
    "from keras.models import Sequential\n",
    "from keras.layers import LSTM, Dense\n",
    "from sklearn.preprocessing import MinMaxScaler\n",
    "from sklearn.metrics import mean_squared_error\n",
    "from keras import backend as K "
   ]
  },
  {
   "cell_type": "code",
   "execution_count": 2,
   "metadata": {},
   "outputs": [],
   "source": [
    "def __init__(self, dataset, hyper_params):\n",
    "    self.dataset = dataset  # Initialize data sets/数据集初始化\n",
    "    self.num_neur = hyper_params[0]  # Initialize number of layer and number of neurons in each layer/初始化隐层数和各层神经元个数\n",
    "    self.look_back = hyper_params[1]  # Initialize length of windows/初始化窗口长度\n",
    "    self.epochs = hyper_params[2]  # Initialize training times/初始化训练次数\n",
    "    self.batch_size = hyper_params[3]  # Initialize batch size/初始化批数\n",
    "    self.selected_feature = hyper_params[4]  # Initialize the selected features/初始化选择特征\n",
    "    self.train_ratio = hyper_params[5]  # Initialize the splitted ratio of training/初始化训练集分割比例\n",
    "    self.feature_num = hyper_params[6]  # Initialize the number of features/初始化特征数量\n",
    "    self.x_train = []  # Initialize training features of training data set/初始化训练集x部分-训练特征\n",
    "    self.y_train = []  # Initialize supervisory signals of training data set/初始化训练集y部分-监督信号\n",
    "    self.x_test = []  # Initialize test features of training data set/初始化测试集x部分-测试特征\n",
    "    self.y_test = []  # Initialize supervisory signals of training data set/初始化测试集y部分-监督信号"
   ]
  },
  {
   "cell_type": "code",
   "execution_count": 3,
   "metadata": {},
   "outputs": [],
   "source": [
    "def split_dataset(self):\n",
    "    # Feature selection/特征选择\n",
    "    def feature_selection(selected_feature):\n",
    "        selected_list = []\n",
    "        for index, item in enumerate(selected_feature):\n",
    "            if item == 1:\n",
    "                selected_list.append(index)\n",
    "            else:\n",
    "                if index == 1:\n",
    "                    selected_list.append(index)\n",
    "        return selected_list\n",
    "\n",
    "    # Convert an array of values into a dataset matrix/转换数据结构，准备训练集与测试集\n",
    "    def create_dataset(dataset, look_back):\n",
    "        dataX, dataY = [], []\n",
    "        for i in range(len(dataset) - look_back):\n",
    "            a = dataset[i:(i + look_back), 0:dataset.shape[1]]\n",
    "            dataX.append(a)\n",
    "            dataY.append(dataset[i + look_back, 0])\n",
    "        return np.array(dataX), np.array(dataY)\n",
    "\n",
    "    selected_list = feature_selection(self.selected_feature)  # Index list of selected feature/选择特征列表索引\n",
    "    train_size = int(len(self.dataset) * self.train_ratio)  # Size of training data set/训练集大小\n",
    "    train_data = self.dataset[0:train_size, selected_list]  # Training data set/训练集\n",
    "    test_data = self.dataset[train_size - self.look_back - 1:len(self.dataset), selected_list]  # Test data set/测试集\n",
    "    self.feature_num = len(selected_list)  # Update the number of selected feature/更新特征数量\n",
    "\n",
    "    # Data set detail/具体分割后数据集\n",
    "    x_train, self.y_train = create_dataset(train_data, self.look_back)\n",
    "    x_test, self.y_test = create_dataset(test_data, self.look_back)\n",
    "\n",
    "    # Reshape input to be [samples, feature_num, features]/整理特征数据的格式\n",
    "    self.x_train = np.reshape(x_train, (x_train.shape[0], self.feature_num, x_train.shape[1]))\n",
    "    self.x_test = np.reshape(x_test, (x_test.shape[0], self.feature_num, x_test.shape[1]))"
   ]
  },
  {
   "cell_type": "code",
   "execution_count": null,
   "metadata": {},
   "outputs": [],
   "source": []
  }
 ],
 "metadata": {
  "kernelspec": {
   "display_name": "Python 3",
   "language": "python",
   "name": "python3"
  },
  "language_info": {
   "codemirror_mode": {
    "name": "ipython",
    "version": 3
   },
   "file_extension": ".py",
   "mimetype": "text/x-python",
   "name": "python",
   "nbconvert_exporter": "python",
   "pygments_lexer": "ipython3",
   "version": "3.5.2"
  }
 },
 "nbformat": 4,
 "nbformat_minor": 2
}
